{
 "cells": [
  {
   "cell_type": "markdown",
   "metadata": {
    "ExecuteTime": {
     "start_time": "2018-08-10T10:45:29.449Z"
    }
   },
   "source": [
    "# New Path Finder Code Snippets\n",
    "Jeremy Johnson\n",
    "\n",
    "The code below runs in Google Earth Engine, but not in this notebook. Most of this code is stored in my own modules which then are used in concert to train the model"
   ]
  },
  {
   "cell_type": "code",
   "execution_count": null,
   "metadata": {
    "collapsed": true
   },
   "outputs": [],
   "source": [
    "## Imports Google Earth Engine \n",
    "import ee"
   ]
  },
  {
   "cell_type": "raw",
   "metadata": {},
   "source": [
    "This is the basic code that retreives the Landsat 8 imagery that I am working with"
   ]
  },
  {
   "cell_type": "code",
   "execution_count": null,
   "metadata": {
    "collapsed": true
   },
   "outputs": [],
   "source": [
    "#define the scene\n",
    "LandSatScene = # defined var path like'LANDSAT/LC08/C01/T1/LC08_044034_20140318'\n",
    "\n",
    "#import the scene\n",
    "var raw = ee.Image(LandSatScene);\n",
    "Map.centerObject(raw, 10); #for display\n",
    "Map.addLayer(raw, {bands: ['B4', 'B3', 'B2'], min: 6000, max: 12000}, 'raw'); #for hypothetical display\n",
    "\n",
    "#Map.addLayer(raw, {bands: ['B2', 'B5', 'B6'], min: 6000, max: 12000}, 'raw'); this is the best false color for my purposes\n",
    "# B2 =  0.452 - 0.512   Bathymetric mapping\n",
    "# B5 =  0.851 - 0.879\n",
    "# B6 = 1.566 - 1.651  penetrates light cloud cover and provides moister index\n",
    "\n",
    "#Convert the raw data to radiance.  This step isn't always necessary, but for my purposes it makes the most sense.\n",
    "var radiance = ee.Algorithms.Landsat.calibratedRadiance(raw);\n",
    "Map.addLayer(radiance, {bands: ['B4', 'B3', 'B2'], max: 90}, 'radiance');"
   ]
  },
  {
   "cell_type": "markdown",
   "metadata": {},
   "source": [
    "Clouds are the mortal enemy of Remote Sensing, so the first \"treatment\" we need to apply is cloud identification and orthorectification"
   ]
  },
  {
   "cell_type": "code",
   "execution_count": null,
   "metadata": {
    "collapsed": true
   },
   "outputs": [],
   "source": [
    "### Load a cloudy Landsat scene and display it.\n",
    "var cloudy_scene = ee.Image(LandSatScene);\n",
    "Map.centerObject(cloudy_scene);\n",
    "Map.addLayer(cloudy_scene, {bands: ['B4', 'B3', 'B2'], max: 0.4}, 'TOA', false);\n",
    "\n",
    "### Add a cloud score band.  It is automatically called 'cloud'.  We will use this score later to throw out images\n",
    "var scored = ee.Algorithms.Landsat.simpleCloudScore(cloudy_scene);\n",
    "\n",
    "## Create a mask from the cloud score and combine it with the image mask.\n",
    "var mask = scored.select(['cloud']).lte(20);\n",
    "\n",
    "### Apply the mask to the image and display the result.\n",
    "var masked = cloudy_scene.updateMask(mask);\n",
    "Map.addLayer(masked, {bands: ['B4', 'B3', 'B2'], max: 0.4}, 'masked');\n",
    "\n",
    "### Load a Landsat 8 composite and set the SENSOR_ID property.\n",
    "var mosaic = ee.Image(ee.ImageCollection(collection).first())\n",
    "  .set('SENSOR_ID', 'OLI_TIRS');\n",
    "\n",
    "### this is the displac e Cloud score the mosaic and display the result.\n",
    "var scored_mosaic = ee.Algorithms.Landsat.simpleCloudScore(mosaic);\n",
    "Map.addLayer(scored_mosaic, {bands: ['B4', 'B3', 'B2'], max: 0.4},\n",
    "    'TOA mosaic', false);"
   ]
  },
  {
   "cell_type": "markdown",
   "metadata": {},
   "source": [
    "So now we need to account for the clouds and noise by making composite images from collections if possible"
   ]
  },
  {
   "cell_type": "code",
   "execution_count": 2,
   "metadata": {
    "ExecuteTime": {
     "end_time": "2018-08-10T11:20:21.587767Z",
     "start_time": "2018-08-10T11:20:21.581669Z"
    }
   },
   
   "source": [
    "var collection = ee.ImageCollection(LandSatScene)\n",
    "    .filterDate('2010-01-01', '2010-3-31');  # for my model, we look at 2 and 3 month composites to determine landcover change. \n",
    "\n",
    "###Create a cloud-free composite with default parameters.\n",
    "var composite = ee.Algorithms.Landsat.simpleComposite(collection);\n",
    "\n",
    "###Create a cloud-free composite with custom parameters for\n",
    "###cloud score threshold and percentile.\n",
    "var customComposite = ee.Algorithms.Landsat.simpleComposite({\n",
    "  collection: collection,\n",
    "  percentile: 75,\n",
    "  cloudScoreRange: 5\n",
    "});\n",
    "\n",
    "### Display the composites. This also helps a processing sanity check\n",
    "Map.setCenter(Coordinates, 10);\n",
    "Map.addLayer(composite, {bands: ['B4', 'B3', 'B2'], max: 128}, 'TOA composite');\n",
    "Map.addLayer(customComposite, {bands: ['B4', 'B3', 'B2'], max: 128},\n",
    "    'Custom TOA composite');"
   ]
  },
  {
   "cell_type": "markdown",
   "metadata": {},
   "source": [
    "# Supervised Classification "
   ]
  },
  {
   "cell_type": "code",
   "execution_count": null,
   "metadata": {
    "collapsed": true
   },
   "outputs": [],
   "source": [
    "-#Use these bands for prediction.\n",
    "var bands = ['B2', 'B3', 'B4', 'B5', 'B6', 'B7', 'B10', 'B11'];\n",
    "\n",
    "# Load a Landsat 8 image to be used for prediction.\n",
    "var image = ee.Image(LandSatScene) # or composite here\n",
    "    .select(bands);\n",
    "\n",
    "#    Load training points. The numeric property 'class' stores known labels.\n",
    "var points = ee.FeatureCollection(Training_Feature)\n",
    "    .remap([1, 2], [0, 1], 'class');\n",
    "\n",
    "#  This Overlays the points on the imagery to get training.\n",
    "var training = image.sampleRegions({\n",
    "  collection: points,\n",
    "  properties: ['class'],\n",
    "  scale: 30\n",
    "});\n",
    "\n",
    "# Train a CART classifier with default parameters.\n",
    "var trained = ee.Classifier.cart().train(training, 'class', bands);\n",
    "\n",
    "# Classify the image with the same bands used for training.\n",
    "var classified = image.select(bands).classify(trained);\n",
    "\n",
    "# Display the inputs and the results.\n",
    "Map.centerObject(image, 10);\n",
    "Map.addLayer(image, {bands: ['B4', 'B3', 'B2'], max: 0.4}, 'image');\n",
    "Map.addLayer(classified, {min: 0, max: 1, palette: ['00FF00', 'FF0000']},\n",
    "  'classification');"
   ]
  },
  {
   "cell_type": "code",
   "execution_count": null,
   "metadata": {
    "collapsed": true
   },
   "outputs": [],
   "source": []
  },
  {
   "cell_type": "code",
   "execution_count": null,
   "metadata": {
    "collapsed": true
   },
   "outputs": [],
   "source": []
  }
 ],
 "metadata": {
  "kernelspec": {
   "display_name": "Python 3",
   "language": "python",
   "name": "python3"
  },
  "language_info": {
   "codemirror_mode": {
    "name": "ipython",
    "version": 3
   },
   "file_extension": ".py",
   "mimetype": "text/x-python",
   "name": "python",
   "nbconvert_exporter": "python",
   "pygments_lexer": "ipython3",
   "version": "3.6.2"
  }
 },
 "nbformat": 4,
 "nbformat_minor": 2
}
